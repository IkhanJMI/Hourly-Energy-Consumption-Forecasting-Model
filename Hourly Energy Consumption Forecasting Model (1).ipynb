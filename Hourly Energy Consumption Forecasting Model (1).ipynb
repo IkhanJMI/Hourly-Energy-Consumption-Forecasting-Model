{
 "cells": [
  {
   "cell_type": "markdown",
   "id": "40c1ebb4",
   "metadata": {},
   "source": [
    "About the Dataset:\n",
    "The dataset used in this notebook contains hourly energy consumption data from PJM Interconnection LLC (PJM), a regional transmission organization operating in the United States."
   ]
  },
  {
   "cell_type": "code",
   "execution_count": null,
   "id": "85d15a63",
   "metadata": {},
   "outputs": [],
   "source": [
    "pip install prophet"
   ]
  },
  {
   "cell_type": "markdown",
   "id": "af2b978f",
   "metadata": {},
   "source": [
    "Importing the Libraries"
   ]
  },
  {
   "cell_type": "code",
   "execution_count": null,
   "id": "aa4f503e",
   "metadata": {},
   "outputs": [],
   "source": [
    "import pandas as pd\n",
    "import numpy as np\n",
    "import matplotlib.pyplot as plt\n",
    "import seaborn as sns\n",
    "import plotly.express as px\n",
    "import plotly.graph_objs as go\n",
    "from prophet import Prophet\n",
    "\n",
    "import xgboost as xgb\n",
    "from sklearn.metrics import mean_squared_error\n",
    "color_pal = sns.color_palette()\n",
    "plt.style.use('fivethirtyeight')"
   ]
  },
  {
   "cell_type": "code",
   "execution_count": null,
   "id": "9cce1e2d",
   "metadata": {},
   "outputs": [],
   "source": [
    "file_path = \"C:/Users/atifi/OneDrive/Desktop/Dataset/pjm_hourly_est.csv\"\n",
    "df = pd.read_csv(file_path)\n",
    "df = df.set_index('Datetime')\n",
    "df.index = pd.to_datetime(df.index)"
   ]
  },
  {
   "cell_type": "code",
   "execution_count": null,
   "id": "5752bb12",
   "metadata": {},
   "outputs": [],
   "source": [
    "df.head()"
   ]
  },
  {
   "cell_type": "code",
   "execution_count": null,
   "id": "1b641255",
   "metadata": {},
   "outputs": [],
   "source": [
    "df.columns"
   ]
  },
  {
   "cell_type": "markdown",
   "id": "ebf796c0",
   "metadata": {},
   "source": [
    "Initial Analysis"
   ]
  },
  {
   "cell_type": "code",
   "execution_count": null,
   "id": "b1af5da3",
   "metadata": {},
   "outputs": [],
   "source": [
    "# List of columns to plot\n",
    "columns_to_plot = ['AEP', 'COMED', 'DAYTON', 'DEOK', 'DOM', 'DUQ', 'EKPC', 'FE', 'NI', 'PJME', 'PJMW', 'PJM_Load']\n",
    "\n",
    "# Iterate through each column and plot\n",
    "for column in columns_to_plot:\n",
    "    fig = go.Figure()\n",
    "    fig.add_trace(go.Scatter(x=df.index, y=df[column], mode='lines', name=column))\n",
    "    fig.update_layout(title=f'{column} Time Series', xaxis_title='Date', yaxis_title='Value')\n",
    "    fig.show()"
   ]
  },
  {
   "cell_type": "code",
   "execution_count": null,
   "id": "2b46c749",
   "metadata": {},
   "outputs": [],
   "source": [
    "df.info()\n"
   ]
  },
  {
   "cell_type": "code",
   "execution_count": null,
   "id": "73aa403e",
   "metadata": {},
   "outputs": [],
   "source": [
    "# find the number of missing values in each column in the form of percentage with print statement\n",
    "print(\"The number of missing values in each column is :\")\n",
    "df.isnull().sum() / len(df) * 100"
   ]
  },
  {
   "cell_type": "code",
   "execution_count": null,
   "id": "b7d30022",
   "metadata": {},
   "outputs": [],
   "source": [
    "df.describe().T"
   ]
  },
  {
   "cell_type": "code",
   "execution_count": null,
   "id": "f592840d",
   "metadata": {},
   "outputs": [],
   "source": [
    "# find the number of missing values in each column in the form of percentage with print statement\n",
    "print(\"The number of missing values in each column is :\")\n",
    "df.isnull().sum() / len(df) * 100"
   ]
  },
  {
   "cell_type": "code",
   "execution_count": null,
   "id": "39bf7712",
   "metadata": {},
   "outputs": [],
   "source": [
    "# Calculate the percentage of missing values for each column\n",
    "missing_percentages = (df.isnull().sum() / len(df)) * 100\n",
    "\n",
    "# Create a bar chart\n",
    "fig = go.Figure(data=[go.Bar(\n",
    "    x=missing_percentages.index,\n",
    "    y=missing_percentages.values,\n",
    "    marker_color='lightsalmon'  # Adjust the color as needed\n",
    ")])\n",
    "\n",
    "# Update layout\n",
    "fig.update_layout(\n",
    "    title='Percentage of Missing Values in Each Column',\n",
    "    xaxis_title='Columns',\n",
    "    yaxis_title='Percentage Missing (%)'\n",
    ")\n",
    "\n",
    "# Show the plot\n",
    "fig.show()"
   ]
  },
  {
   "cell_type": "markdown",
   "id": "e4e4a505",
   "metadata": {},
   "source": [
    "Observation: We've observed that the PJME column has the fewest missing values compared to other columns in the dataset. Due to its completeness, we've decided to focus our further analysis on this column. This decision ensures that our analysis is based on robust and reliable data, leading to more insightful findings."
   ]
  },
  {
   "cell_type": "markdown",
   "id": "dda0a108",
   "metadata": {},
   "source": [
    "Analysis on PMJE"
   ]
  },
  {
   "cell_type": "code",
   "execution_count": null,
   "id": "2596e607",
   "metadata": {},
   "outputs": [],
   "source": [
    "file_path = \"C:/Users/atifi/OneDrive/Desktop/Dataset/PJME_hourly.csv\"\n",
    "pjme = pd.read_csv(file_path)\n",
    "pjme = pjme.set_index('Datetime')\n",
    "pjme.index = pd.to_datetime(pjme.index)"
   ]
  },
  {
   "cell_type": "code",
   "execution_count": null,
   "id": "8902eee6",
   "metadata": {},
   "outputs": [],
   "source": [
    "pjme.head()"
   ]
  },
  {
   "cell_type": "code",
   "execution_count": null,
   "id": "6751f182",
   "metadata": {},
   "outputs": [],
   "source": [
    "from pandas.api.types import CategoricalDtype\n",
    "\n",
    "cat_type = CategoricalDtype(categories=['Monday','Tuesday',\n",
    "                                        'Wednesday',\n",
    "                                        'Thursday','Friday',\n",
    "                                        'Saturday','Sunday'],\n",
    "                            ordered=True)\n",
    "\n",
    "def create_features(df, label=None):\n",
    "    \"\"\"\n",
    "    Creates time series features from datetime index.\n",
    "    \"\"\"\n",
    "    df = df.copy()\n",
    "    df['date'] = df.index\n",
    "    df['hour'] = df['date'].dt.hour\n",
    "    df['dayofweek'] = df['date'].dt.dayofweek\n",
    "    df['weekday'] = df['date'].dt.day_name()\n",
    "    df['weekday'] = df['weekday'].astype(cat_type)\n",
    "    df['quarter'] = df['date'].dt.quarter\n",
    "    df['month'] = df['date'].dt.month\n",
    "    df['year'] = df['date'].dt.year\n",
    "    df['dayofyear'] = df['date'].dt.dayofyear\n",
    "    df['dayofmonth'] = df['date'].dt.day\n",
    "    \n",
    "    # Calculate week of the year using isocalendar()\n",
    "    df['weekofyear'] = df['date'].apply(lambda x: x.isocalendar()[1])\n",
    "    \n",
    "    df['date_offset'] = (df.date.dt.month*100 + df.date.dt.day - 320)%1300\n",
    "\n",
    "    df['season'] = pd.cut(df['date_offset'], [0, 300, 602, 900, 1300], \n",
    "                          labels=['Spring', 'Summer', 'Fall', 'Winter']\n",
    "                   )\n",
    "    X = df[['hour','dayofweek','quarter','month','year',\n",
    "           'dayofyear','dayofmonth','weekofyear','weekday',\n",
    "           'season']]\n",
    "    if label:\n",
    "        y = df[label]\n",
    "        return X, y\n",
    "    return X\n",
    "\n",
    "X, y = create_features(pjme, label='PJME_MW')\n",
    "features_and_target = pd.concat([X, y], axis=1)"
   ]
  },
  {
   "cell_type": "code",
   "execution_count": null,
   "id": "c10eefbc",
   "metadata": {},
   "outputs": [],
   "source": [
    "import plotly.express as px\n",
    "\n",
    "# Drop rows with missing values\n",
    "features_and_target_cleaned = features_and_target.dropna()\n",
    "\n",
    "# Create box plot using Plotly Express\n",
    "fig = px.box(features_and_target_cleaned,\n",
    "             x='weekday',\n",
    "             y='PJME_MW',\n",
    "             color='season',\n",
    "             title='Power Use MW by Day of Week',\n",
    "             labels={'weekday': 'Day of Week', 'PJME_MW': 'Energy (MW)'},\n",
    "             width=800, height=500)\n",
    "\n",
    "# Show legend outside the plot\n",
    "fig.update_layout(legend=dict(\n",
    "    orientation=\"h\",\n",
    "    yanchor=\"bottom\",\n",
    "    y=1.02,\n",
    "    xanchor=\"right\",\n",
    "    x=1\n",
    "))\n",
    "\n",
    "fig.show()"
   ]
  },
  {
   "cell_type": "markdown",
   "id": "a9825ee1",
   "metadata": {},
   "source": [
    "Train/Test Split of Data"
   ]
  },
  {
   "cell_type": "code",
   "execution_count": null,
   "id": "51b367c7",
   "metadata": {},
   "outputs": [],
   "source": [
    "# Split the data into training and test sets\n",
    "split_date = '2015-01-01'\n",
    "pjme_train = pjme.loc[pjme.index <= split_date].copy()\n",
    "pjme_test = pjme.loc[pjme.index > split_date].copy()\n",
    "\n",
    "# Rename columns for clarity\n",
    "pjme_train['Set'] = 'Training Set'\n",
    "pjme_test['Set'] = 'Test Set'\n",
    "\n",
    "# Combine training and test sets\n",
    "combined_data = pd.concat([pjme_train, pjme_test])\n",
    "\n",
    "# Create a scatter plot using Plotly Express\n",
    "fig = px.scatter(combined_data, x=combined_data.index, y='PJME_MW', color='Set',\n",
    "                 title='PJM East: Training and Test Sets',\n",
    "                 labels={'x': 'Date', 'y': 'Energy (MW)'},\n",
    "                 width=1000, height=600)\n",
    "\n",
    "# Update plot aesthetics\n",
    "fig.update_traces(marker=dict(size=3, opacity=0.7))\n",
    "\n",
    "# Show legend outside the plot\n",
    "fig.update_layout(legend=dict(\n",
    "    orientation=\"h\",\n",
    "    yanchor=\"bottom\",\n",
    "    y=1.02,\n",
    "    xanchor=\"right\",\n",
    "    x=1\n",
    "))\n",
    "\n",
    "fig.show()"
   ]
  },
  {
   "cell_type": "markdown",
   "id": "e45930ad",
   "metadata": {},
   "source": [
    "Prophet Model¶\n",
    "The Prophet model is a powerful tool for time series forecasting developed by Facebook. It is designed to handle various time series data, including those with daily, weekly, or yearly seasonality, as well as holiday effects.\n",
    "\n",
    "When using the Prophet model, it expects the dataset to be structured in a specific way. The key requirements are:\n",
    "\n",
    "Datetime Column: The dataset should contain a datetime column representing the timestamps of the observations. This column is typically named ds, short for datetime stamp.\n",
    "\n",
    "Target Column: The Prophet model requires a target variable that it aims to forecast. This column, representing the values we want to predict, should be named y.\n",
    "\n",
    "By adhering to these naming conventions, we ensure compatibility with the Prophet model and facilitate seamless integration into our forecasting workflow."
   ]
  },
  {
   "cell_type": "code",
   "execution_count": null,
   "id": "59d1541b",
   "metadata": {},
   "outputs": [],
   "source": [
    "import time\n",
    "\n",
    "df_train_prophet = pjme_train.reset_index() \\\n",
    "    .rename(columns={'Datetime':'ds',\n",
    "                     'PJME_MW':'y'})\n",
    "\n",
    "start_time = time.time()\n",
    "\n",
    "model = Prophet()\n",
    "model.fit(df_train_prophet)\n",
    "\n",
    "end_time = time.time()\n",
    "execution_time = end_time - start_time\n",
    "print(\"Execution time:\", execution_time, \"seconds\")"
   ]
  },
  {
   "cell_type": "code",
   "execution_count": null,
   "id": "d84928ba",
   "metadata": {},
   "outputs": [],
   "source": [
    "df_test_prophet = pjme_test.reset_index() \\\n",
    "    .rename(columns={'Datetime':'ds',\n",
    "                     'PJME_MW':'y'})\n",
    "\n",
    "df_test_fcst = model.predict(df_test_prophet)"
   ]
  },
  {
   "cell_type": "code",
   "execution_count": null,
   "id": "8b6d6cda",
   "metadata": {},
   "outputs": [],
   "source": [
    "import plotly.graph_objects as go\n",
    "\n",
    "# Convert the forecast DataFrame to Plotly-compatible format\n",
    "forecast_plotly = df_test_fcst.reset_index()\n",
    "\n",
    "# Create the figure\n",
    "fig = go.Figure()\n",
    "\n",
    "# Add the actual data as a scatter plot\n",
    "fig.add_trace(go.Scatter(x=pjme_test.index, y=pjme_test['PJME_MW'], mode='markers', name='Actual', marker=dict(size=5)))\n",
    "\n",
    "# Add the forecasted values and confidence intervals as line plots\n",
    "fig.add_trace(go.Scatter(x=forecast_plotly['ds'], y=forecast_plotly['yhat'], mode='lines', name='Forecast'))\n",
    "fig.add_trace(go.Scatter(x=forecast_plotly['ds'], y=forecast_plotly['yhat_lower'], mode='lines', name='Lower Bound', line=dict(dash='dash')))\n",
    "fig.add_trace(go.Scatter(x=forecast_plotly['ds'], y=forecast_plotly['yhat_upper'], mode='lines', name='Upper Bound', line=dict(dash='dash')))\n",
    "\n",
    "# Update layout\n",
    "fig.update_layout(title='Prophet Forecast',\n",
    "                  xaxis_title='Date',\n",
    "                  yaxis_title='Energy Consumption (MW)',\n",
    "                  width=1000, height=600)\n",
    "\n",
    "# Show the plot\n",
    "fig.show()"
   ]
  },
  {
   "cell_type": "code",
   "execution_count": null,
   "id": "b232ef31",
   "metadata": {},
   "outputs": [],
   "source": [
    "fig = model.plot_components(df_test_fcst)\n",
    "plt.show()"
   ]
  },
  {
   "cell_type": "markdown",
   "id": "802ae134",
   "metadata": {},
   "source": [
    "Forecast to Actual Comparing"
   ]
  },
  {
   "cell_type": "code",
   "execution_count": null,
   "id": "ac3c6bd7",
   "metadata": {},
   "outputs": [],
   "source": [
    "import matplotlib.pyplot as plt\n",
    "\n",
    "# Plot actuals\n",
    "plt.figure(figsize=(15, 5))  # Set desired figure size\n",
    "plt.scatter(pjme_test.index, pjme_test[\"PJME_MW\"], color='blue', label='Actuals')\n",
    "\n",
    "# Plot forecast using Prophet's built-in plotting\n",
    "fig = model.plot(df_test_fcst)\n",
    "plt.legend()  # Add legend after Prophet's plot (optional)\n",
    "\n",
    "# Customize labels and title (optional)\n",
    "plt.xlabel('Date')\n",
    "plt.ylabel('PJME MW')\n",
    "plt.title('PJME MW Forecast and Actuals')\n",
    "\n",
    "# Show the plot\n",
    "plt.tight_layout()\n",
    "plt.show()"
   ]
  },
  {
   "cell_type": "code",
   "execution_count": null,
   "id": "942ad751",
   "metadata": {},
   "outputs": [],
   "source": [
    "import matplotlib.pyplot as plt\n",
    "import pandas as pd\n",
    "\n",
    "# Assuming pjme_test has a datetime index and pjme_test['PJME_MW'] is the data\n",
    "# to be plotted\n",
    "\n",
    "# Create figure and axes\n",
    "fig, ax = plt.subplots(figsize=(10, 5))\n",
    "\n",
    "# Plot actuals\n",
    "ax.scatter(pjme_test.index, pjme_test[\"PJME_MW\"], color='blue', label='Actuals')\n",
    "\n",
    "# Plot forecast using Prophet's built-in plotting\n",
    "model.plot(df_test_fcst, ax=ax)\n",
    "\n",
    "# Convert date strings to datetime objects\n",
    "lower_bound = pd.to_datetime('01-01-2015')\n",
    "upper_bound = pd.to_datetime('02-01-2015')\n",
    "\n",
    "# Set x-axis bounds using datetime objects\n",
    "ax.set_xbound(lower_bound, upper_bound)\n",
    "\n",
    "# Set y-axis limits (optional)\n",
    "ax.set_ylim(0, 60000)  # Adjust as needed\n",
    "\n",
    "# Add title and legend (optional)\n",
    "plt.suptitle('January 2015 Forecast vs Actuals')\n",
    "plt.legend()\n",
    "\n",
    "# Show the plot\n",
    "plt.tight_layout()\n",
    "plt.show()"
   ]
  },
  {
   "cell_type": "code",
   "execution_count": null,
   "id": "57be89fe",
   "metadata": {},
   "outputs": [],
   "source": [
    "import matplotlib.pyplot as plt\n",
    "import pandas as pd  # Import pandas for date handling\n",
    "\n",
    "# Assuming pjme_test has a datetime index and pjme_test['PJME_MW'] is the data\n",
    "# to be plotted\n",
    "\n",
    "# Create figure and axes\n",
    "fig, ax = plt.subplots(figsize=(15, 5))\n",
    "\n",
    "# Plot actuals\n",
    "ax.scatter(pjme_test.index, pjme_test[\"PJME_MW\"], color='blue', label='Actuals')\n",
    "\n",
    "# Plot forecast using Prophet's built-in plotting\n",
    "model.plot(df_test_fcst, ax=ax)\n",
    "\n",
    "# Convert date strings to datetime objects for x-axis bounds\n",
    "lower_bound = pd.to_datetime('01-01-2015')\n",
    "upper_bound = pd.to_datetime('01-08-2015')\n",
    "\n",
    "# Set x-axis bounds using datetime objects\n",
    "ax.set_xbound(lower_bound, upper_bound)\n",
    "\n",
    "# Set y-axis limits (optional)\n",
    "ax.set_ylim(0, 60000)  # Adjust as needed\n",
    "\n",
    "# Add title\n",
    "ax.set_title('First Week of January Forecast vs Actuals')\n",
    "\n",
    "# Add legend (optional)\n",
    "plt.legend()\n",
    "\n",
    "# Show the plot\n",
    "plt.tight_layout()\n",
    "plt.show()"
   ]
  },
  {
   "cell_type": "markdown",
   "id": "4d632c53",
   "metadata": {},
   "source": [
    "Model Evaluation with Error Matrix"
   ]
  },
  {
   "cell_type": "code",
   "execution_count": null,
   "id": "3f48e44d",
   "metadata": {},
   "outputs": [],
   "source": [
    "from sklearn.metrics import mean_squared_error, mean_absolute_error\n",
    "import numpy as np\n",
    "\n",
    "# Calculate Root Mean Squared Error (RMSE)\n",
    "rmse = np.sqrt(mean_squared_error(y_true=pjme_test['PJME_MW'], y_pred=df_test_fcst['yhat']))\n",
    "\n",
    "# Calculate Mean Absolute Error (MAE)\n",
    "mae = mean_absolute_error(y_true=pjme_test['PJME_MW'], y_pred=df_test_fcst['yhat'])\n",
    "\n",
    "# Print the results\n",
    "print(f\"Root Mean Squared Error (RMSE): {rmse:.2f}\")\n",
    "print(f\"Mean Absolute Error (MAE): {mae:.2f}\")"
   ]
  }
 ],
 "metadata": {
  "kernelspec": {
   "display_name": "Python 3 (ipykernel)",
   "language": "python",
   "name": "python3"
  },
  "language_info": {
   "codemirror_mode": {
    "name": "ipython",
    "version": 3
   },
   "file_extension": ".py",
   "mimetype": "text/x-python",
   "name": "python",
   "nbconvert_exporter": "python",
   "pygments_lexer": "ipython3",
   "version": "3.11.5"
  }
 },
 "nbformat": 4,
 "nbformat_minor": 5
}
